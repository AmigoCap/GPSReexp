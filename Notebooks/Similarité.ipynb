{
 "cells": [
  {
   "cell_type": "markdown",
   "metadata": {
    "colab_type": "text",
    "id": "PYFJL--G8xdD"
   },
   "source": [
    "# Livrables\n",
    "\n",
    "Ce notebook contient les étapes suivantes: \n",
    "\n",
    "    -Représentation d'une courbe dans un plan 2D avec un grid. \n",
    "    -Calcul de la pente de la trajectoire les grids.\n",
    "    -Determination de la direction de la courbe dans chaque cellule.\n",
    "    -Conversion de la trajectoire en une chaine de caractère."
   ]
  },
  {
   "cell_type": "markdown",
   "metadata": {
    "colab_type": "text",
    "id": "9tOKleXW-uzo"
   },
   "source": [
    "### Contexte: \n",
    "\n",
    "Pour chaque direction on affecte une chaine de caractère. Pour simplifier, mais aussi pour diminuer les erreurs, on prend en considération 8 directions dans un plan 2D. En affectant à chaque direction une lettre : [A,B,C,D,E,F,G,H]"
   ]
  },
  {
   "cell_type": "markdown",
   "metadata": {
    "colab_type": "text",
    "id": "K0KM-QeZ9W0H"
   },
   "source": [
    "## Representation d'une courbe dans un plan 2D grillé: \n",
    "\n",
    "Nous allons représenter d'abord une trajectoire simple par les points x et y sous forme des array en utilisant des grilles "
   ]
  },
  {
   "cell_type": "code",
   "execution_count": 1,
   "metadata": {
    "colab": {
     "base_uri": "https://localhost:8080/",
     "height": 347
    },
    "colab_type": "code",
    "id": "HSApWYi69dMZ",
    "outputId": "f2c68473-20d7-4d73-cf93-a9f4caa0b498"
   },
   "outputs": [],
   "source": [
    "import matplotlib.pyplot as plt \n",
    "import numpy as np\n",
    "\n",
    "\n",
    "x = np.array([0.5,3,6.6,4,3])\n",
    "y = np.array([0,1,3,5,3])\n",
    "\n",
    "\n",
    "\n",
    "plt.plot(x,y)\n",
    "plt.grid(True)\n",
    "\n"
   ]
  },
  {
   "cell_type": "markdown",
   "metadata": {
    "colab_type": "text",
    "id": "9fwVp_yK-Exj"
   },
   "source": [
    "Maintenant l'idée est de calculer la direction de la trajectoire dans chaque cellule, pour ensuite y affecter une chaine de caractère. \n",
    "\n",
    "Nous allons calculer maintenant les directions de de la trajectoire  en fonction des coordonnées "
   ]
  },
  {
   "cell_type": "code",
   "execution_count": 2,
   "metadata": {
    "colab": {
     "base_uri": "https://localhost:8080/",
     "height": 85
    },
    "colab_type": "code",
    "id": "hyuh8jAT9wlH",
    "outputId": "e0001a6d-bef3-4205-8195-3faac72377f8"
   },
   "outputs": [
    {
     "name": "stdout",
     "output_type": "stream",
     "text": [
      "direction haute droite\n",
      "direction haute droite\n",
      "direction haute gauche\n",
      "direction bas gauche\n"
     ]
    }
   ],
   "source": [
    "for i in range(x.size-1): \n",
    "        a = (y[i+1]-y[i])/(x[i+1]-x[i])\n",
    "        if x[i+1]-x[i]>0:\n",
    "            if  y[i+1]-y[i]>0:\n",
    "                 print(\"direction haute droite\")\n",
    "            else:\n",
    "                    print(\"direction bas droite\")\n",
    "        else:\n",
    "                if  y[i+1]-y[i]>0:\n",
    "                    print(\"direction haute gauche\")\n",
    "                else:\n",
    "                    print(\"direction bas gauche\")"
   ]
  },
  {
   "cell_type": "markdown",
   "metadata": {
    "colab_type": "text",
    "id": "3kwp219nJvOX"
   },
   "source": [
    "Mainetant avec les pentes ! "
   ]
  },
  {
   "cell_type": "code",
   "execution_count": 3,
   "metadata": {
    "colab": {
     "base_uri": "https://localhost:8080/",
     "height": 551
    },
    "colab_type": "code",
    "id": "WJGPyYHLIXfn",
    "outputId": "eb47a1f2-a1f3-4a00-9c5a-d0ba8e7a052f"
   },
   "outputs": [
    {
     "name": "stdout",
     "output_type": "stream",
     "text": [
      "direction haute \n",
      "pente :  0.4\n",
      " angle de pente :  0.3805063771123649\n",
      "direction haute \n",
      "pente :  2.0\n",
      " angle de pente :  1.1071487177940904\n",
      "direction haute \n",
      "pente :  1.0\n",
      " angle de pente :  0.7853981633974483\n",
      "direction bas \n",
      "pente :  -1.4285714285714282\n",
      " angle de pente :  -0.9600703624056879\n"
     ]
    },
    {
     "data": {
      "image/png": "[encoded data removed]",
      "text/plain": [
       "<Figure size 432x288 with 1 Axes>"
      ]
     },
     "metadata": {
      "needs_background": "light"
     },
     "output_type": "display_data"
    }
   ],
   "source": [
    "import math \n",
    "\n",
    "\n",
    "xt = np.array([0.5,3,4,6,7.4])\n",
    "yt = np.array([0,1,3,5,3])\n",
    "for i in range(xt.size-1): \n",
    "        a = (yt[i+1]-yt[i])/(xt[i+1]-xt[i])\n",
    "        if xt[i+1]-xt[i]>0:\n",
    "            if  yt[i+1]-yt[i]>0:\n",
    "                print(\"direction haute \")\n",
    "            else:\n",
    "                print(\"direction bas \")\n",
    "                   # print(math.atan())\n",
    "        print('pente : ' ,+ a)\n",
    "        print( ' angle de pente : ', math.atan(a)     )\n",
    "\n",
    "#y = np.array[2,3,5]\n",
    "#plt.xlim(x[0],x[-1])\n",
    "#plt.ylim(y[0],y[-1])\n",
    "#ax = plt.gca()\n",
    "#minor_ticks = np.arange(5,8,3)\n",
    "#ax.set_yticks(minor_ticks, minor=True)\n",
    "#ax.yaxis.grid(which='minor')\n",
    "plt.plot(xt,yt)\n",
    "plt.grid(True)"
   ]
  },
  {
   "cell_type": "markdown",
   "metadata": {
    "colab_type": "text",
    "id": "o42J8yB-NBmM"
   },
   "source": [
    "### Application à une trajectoire\n",
    "\n",
    "Pour la suite, on va travailler sur un un grid 16 x 16 pour unifier le contexte. Et puis on travaillera avec une transformation spatiale (temporelle plus tard) pour ramener une trajectoire simple quelconque en une trajectoire sur un plan 2D 16 x 16. "
   ]
  },
  {
   "cell_type": "code",
   "execution_count": 4,
   "metadata": {
    "colab": {
     "base_uri": "https://localhost:8080/",
     "height": 340
    },
    "colab_type": "code",
    "id": "rCOIQOftM-rG",
    "outputId": "fb340873-9c64-49cb-c394-2637addbc642"
   },
   "outputs": [
    {
     "name": "stderr",
     "output_type": "stream",
     "text": [
      "C:\\Users\\Admin\\Anaconda3\\lib\\site-packages\\matplotlib\\cbook\\deprecation.py:107: MatplotlibDeprecationWarning: Adding an axes using the same arguments as a previous axes currently reuses the earlier instance.  In a future version, a new instance will always be created and returned.  Meanwhile, this warning can be suppressed, and the future behavior ensured, by passing a unique label to each axes instance.\n",
      "  warnings.warn(message, mplDeprecation, stacklevel=1)\n"
     ]
    },
    {
     "data": {
      "image/png": "[encoded data removed]",
      "text/plain": [
       "<Figure size 432x288 with 1 Axes>"
      ]
     },
     "metadata": {
      "needs_background": "light"
     },
     "output_type": "display_data"
    }
   ],
   "source": [
    "import matplotlib.pyplot as pp \n",
    "import numpy as np \n",
    "\n",
    "def resadjust(ax, xres=None, yres=None): \n",
    "    \"\"\" \n",
    "    Send in an axis and I fix the resolution as desired. \n",
    "    \"\"\" \n",
    "\n",
    "    if xres: \n",
    "      start, stop = ax.get_xlim() \n",
    "      ticks = np.arange(start, stop + xres, xres) \n",
    "      ax.set_xticks(ticks) \n",
    "    if yres: \n",
    "      start, stop = ax.get_ylim() \n",
    "      ticks = np.arange(start, stop + yres, yres) \n",
    "      ax.set_yticks(ticks) \n",
    "\n",
    "plt.plot()\n",
    "plt.xlim([0, 16])\n",
    "plt.ylim([0, 16])\n",
    "ax=plt.axes()\n",
    "\n",
    "resadjust(ax,1,1)\n",
    "plt.grid(True)\n",
    "\n",
    "plt.show()"
   ]
  },
  {
   "cell_type": "markdown",
   "metadata": {
    "colab_type": "text",
    "id": "cbS2dX2watVc"
   },
   "source": [
    "En premier lieu, on va travailler avec une transformation linéaire simple. Etant donné une trajectoire de coordonnée X, Y (deux np array). Si max(X,Y) dépasse 16 (L'unité de travail que ça soit des mètres ou des Kilo mètres), alors on fait les opérations: \n",
    "\\begin{equation}\n",
    "\\frac{16X}{max(X,Y)},\n",
    "\\frac{16Y}{max(X,Y)}\n",
    "\\end{equation}\n"
   ]
  },
  {
   "cell_type": "code",
   "execution_count": 5,
   "metadata": {
    "colab": {
     "base_uri": "https://localhost:8080/",
     "height": 51
    },
    "colab_type": "code",
    "id": "4U-4oqTTXpTu",
    "outputId": "0e68eb8c-0d0c-4d4c-b303-9704a71f59a0"
   },
   "outputs": [
    {
     "data": {
      "text/plain": [
       "(array([ 0.94117647,  1.41176471, 11.76470588,  8.        ]),\n",
       " array([ 0.47058824,  6.11764706, 16.        , 12.23529412]))"
      ]
     },
     "execution_count": 5,
     "metadata": {},
     "output_type": "execute_result"
    }
   ],
   "source": [
    "def transform(X,Y):\n",
    "  if max(X)>=16 or max(Y)>=16: \n",
    "    if max(X)>=max(Y):\n",
    "      X=X*16/max(X)\n",
    "      Y=Y*16/max(X)\n",
    "      return X,Y\n",
    "    if max(Y)>=max(X):\n",
    "      X=X*16/max(Y)\n",
    "      Y=Y*16/max(Y)\n",
    "      return X,Y\n",
    "  return X,Y\n",
    "\n",
    "y = np.array([1, 13, 34, 26])\n",
    "x = np.array([2, 3, 25, 17])\n",
    "\n",
    "transform(x,y)"
   ]
  },
  {
   "cell_type": "markdown",
   "metadata": {
    "colab_type": "text",
    "id": "wgkvEEkDZtsG"
   },
   "source": [
    "### Interpolation avec python "
   ]
  },
  {
   "cell_type": "code",
   "execution_count": 6,
   "metadata": {
    "colab": {
     "base_uri": "https://localhost:8080/",
     "height": 357
    },
    "colab_type": "code",
    "id": "eKBbh8PEZpJV",
    "outputId": "5d5f8902-276f-47cc-ddb5-31b49eb572f5"
   },
   "outputs": [
    {
     "name": "stdout",
     "output_type": "stream",
     "text": [
      "5.0\n"
     ]
    },
    {
     "name": "stderr",
     "output_type": "stream",
     "text": [
      "C:\\Users\\Admin\\Anaconda3\\lib\\site-packages\\matplotlib\\cbook\\deprecation.py:107: MatplotlibDeprecationWarning: Adding an axes using the same arguments as a previous axes currently reuses the earlier instance.  In a future version, a new instance will always be created and returned.  Meanwhile, this warning can be suppressed, and the future behavior ensured, by passing a unique label to each axes instance.\n",
      "  warnings.warn(message, mplDeprecation, stacklevel=1)\n"
     ]
    },
    {
     "data": {
      "image/png": "[encoded data removed]",
      "text/plain": [
       "<Figure size 432x288 with 1 Axes>"
      ]
     },
     "metadata": {
      "needs_background": "light"
     },
     "output_type": "display_data"
    }
   ],
   "source": [
    "x = np.array([1,3, 4, 6, 8, 10,15 ,17, 21])\n",
    "y = np.array([2, 3, 5, 5, 12, 13, 15.5, 15, 9])\n",
    "print(np.interp(6, x, y))  #interpolation au point 5\n",
    "\n",
    "plt.plot()\n",
    "plt.xlim([0, 16])\n",
    "plt.ylim([0, 16])\n",
    "ax=plt.axes()\n",
    "\n",
    "resadjust(ax,1,1)\n",
    "plt.grid(True)\n",
    "\n",
    "plt.plot(transform(x,y)[0],transform(x,y)[1])\n",
    "plt.show()"
   ]
  },
  {
   "cell_type": "markdown",
   "metadata": {
    "colab_type": "text",
    "id": "GiJ7iCHNd0EK"
   },
   "source": [
    "### Calcul des pentes dans chaque case après la transofrmation: "
   ]
  },
  {
   "cell_type": "code",
   "execution_count": 48,
   "metadata": {
    "colab": {},
    "colab_type": "code",
    "id": "9No_HZxiu71j"
   },
   "outputs": [],
   "source": [
    "def calculPente(X,Y):\n",
    "    L=[]\n",
    "    pentes=[]\n",
    "    angles=[]\n",
    "    for i in range(16): \n",
    "        L.append(np.interp(i,X,Y))\n",
    "    for i in range(15):\n",
    "        pentes.append(L[i+1]-L[i])\n",
    "        angles.append(math.atan(L[i+1]-L[i]))\n",
    "    return pentes,angles"
   ]
  },
  {
   "cell_type": "code",
   "execution_count": 49,
   "metadata": {
    "colab": {
     "base_uri": "https://localhost:8080/",
     "height": 54
    },
    "colab_type": "code",
    "id": "4FdO0ZVGWvTD",
    "outputId": "ada4bad7-fab5-4ad4-d824-a609c986da49"
   },
   "outputs": [
    {
     "name": "stdout",
     "output_type": "stream",
     "text": [
      "([0.15625, 0.65625, 2.0625, 0.125, 1.9687500000000009, 4.593749999999999, 1.625, 1.0124999999999993, 0.5250000000000004, 0.5250000000000004, 0.5250000000000004, -5.399999999999997, -9.250000000000004, 2.625, 2.6250000000000004], [0.15499674192394097, 0.5807563535676704, 1.1193432352423422, 0.12435499454676144, 1.100819688377889, 1.3564532371386109, 1.0191413442663497, 0.7916092636503143, 0.4834470015671993, 0.4834470015671993, 0.4834470015671993, -1.3876855095324123, -1.463106455962076, 1.2068173702852525, 1.2068173702852527])\n"
     ]
    }
   ],
   "source": [
    "import math \n",
    "x = np.array([1,3, 4, 6, 8, 10,15 ,17, 21])\n",
    "y = np.array([2, 3, 5, 5, 12, 14, 16, 1, 9])\n",
    "\n",
    "print(calculPente(transform(x,y)[0],transform(x,y)[1]))"
   ]
  },
  {
   "cell_type": "markdown",
   "metadata": {
    "colab_type": "text",
    "id": "K16slafQd_Vi"
   },
   "source": [
    "### Conversion en chaine de caractères: \n",
    "\n",
    "Dans cette partie, on effectue la conversion en chaine de caractères de notre trajectoire."
   ]
  },
  {
   "cell_type": "code",
   "execution_count": 50,
   "metadata": {
    "colab": {},
    "colab_type": "code",
    "id": "U7QttYpUcy7I"
   },
   "outputs": [],
   "source": [
    "def convert(list):\n",
    "  # Converting integer list to string list \n",
    "  s = [str(i) for i in list] \n",
    "      \n",
    "  # Join list items using join() \n",
    "  res = \"\".join(s)\n",
    "      \n",
    "  return(res)\n",
    "\n",
    "def conversionStr(X,Y):\n",
    "    L=[]\n",
    "    for i in range(15):\n",
    "        L.append(np.interp(i,X,Y))\n",
    "    \n",
    "    List=[0]*16\n",
    "    \n",
    "    for i in range(15):\n",
    "        if 5 < calculPente(transform(x,y)[0],transform(x,y)[1])[0][i]: \n",
    "            L[i]='A'\n",
    "        if 0 < calculPente(transform(x,y)[0],transform(x,y)[1])[0][i] < 5 and calculPente(transform(x,y)[0],transform(x,y)[1])[1][i] > 0:\n",
    "            L[i]='B'\n",
    "        if calculPente(transform(x,y)[0],transform(x,y)[1])[0][i] == 0 and calculPente(transform(x,y)[0],transform(x,y)[1])[1][i]> 0:\n",
    "            L[i]='C'\n",
    "        if -5 <calculPente(transform(x,y)[0],transform(x,y)[1])[0][i] < 0  and calculPente(transform(x,y)[0],transform(x,y)[1])[1][i] > 0: \n",
    "            L[i]='D'\n",
    "        if calculPente(transform(x,y)[0],transform(x,y)[1])[0][i] <-5 : \n",
    "            L[i]='E'\n",
    "        if 0 < calculPente(transform(x,y)[0],transform(x,y)[1])[0][i] < 5 and calculPente(transform(x,y)[0],transform(x,y)[1])[1][i] <0 :\n",
    "            L[i]='F'\n",
    "        if calculPente(transform(x,y)[0],transform(x,y)[1])[0][i] == 0 and calculPente(transform(x,y)[0],transform(x,y)[1])[1][i] <0 :\n",
    "            L[i]='G'\n",
    "        if -5 <calculPente(transform(x,y)[0],transform(x,y)[1])[0][i] < 0  and calculPente(transform(x,y)[0],transform(x,y)[1])[1][i] <0 : \n",
    "            L[i]='H'\n",
    "    return convert(L)"
   ]
  },
  {
   "cell_type": "code",
   "execution_count": 53,
   "metadata": {
    "colab": {
     "base_uri": "https://localhost:8080/",
     "height": 364
    },
    "colab_type": "code",
    "id": "0HHnZzNPefI6",
    "outputId": "fe8f305a-8713-4e10-deb2-3e6afb4c6c98"
   },
   "outputs": [
    {
     "name": "stdout",
     "output_type": "stream",
     "text": [
      "6.0\n",
      "BBBBBBBBBBBEEBB\n"
     ]
    },
    {
     "data": {
      "image/png": "[encoded data removed]",
      "text/plain": [
       "<Figure size 432x288 with 1 Axes>"
      ]
     },
     "metadata": {
      "needs_background": "light"
     },
     "output_type": "display_data"
    }
   ],
   "source": [
    "C=[1,1,2,2,3,5,8,12]\n",
    "D=[4,6,7,7.5,8,11,13,15]\n",
    "print(np.interp(1,C,D))\n",
    "print(conversionStr(C,D))\n",
    "plt.plot(transform(C,D)[0],transform(C,D)[1])\n",
    "plt.show()"
   ]
  },
  {
   "cell_type": "markdown",
   "metadata": {
    "colab_type": "text",
    "id": "sDBf2LU-LpLM"
   },
   "source": [
    "### L'algorithme Levenstein: \n",
    "\n",
    "Après avoir transformé la trajectoire en chaine de caractères, il est maintenant nécessaires de déployer l'algorithme de Levenstein pour comparer deux chaines de caractères, et puis de trouver les similarités. "
   ]
  },
  {
   "cell_type": "code",
   "execution_count": 34,
   "metadata": {
    "colab": {},
    "colab_type": "code",
    "id": "fwDDHQn4ML8s"
   },
   "outputs": [],
   "source": [
    "def levenshtein(s1, s2):\n",
    "    if len(s1) < len(s2):\n",
    "        return levenshtein(s2, s1)\n",
    "\n",
    "    # len(s1) >= len(s2)\n",
    "    if len(s2) == 0:\n",
    "        return len(s1)\n",
    "\n",
    "    previous_row = range(len(s2) + 1)\n",
    "    for i, c1 in enumerate(s1):\n",
    "        current_row = [i + 1]\n",
    "        for j, c2 in enumerate(s2):\n",
    "            insertions = previous_row[j + 1] + 1 \n",
    "            deletions = current_row[j] + 1\n",
    "            substitutions = previous_row[j] + (c1 != c2)\n",
    "            current_row.append(min(insertions, deletions, substitutions))\n",
    "        previous_row = current_row\n",
    "    \n",
    "    return previous_row[-1]"
   ]
  },
  {
   "cell_type": "markdown",
   "metadata": {
    "colab_type": "text",
    "id": "pjXd1DYbMk35"
   },
   "source": [
    "On teste sur deux chaines de caractères: "
   ]
  },
  {
   "cell_type": "code",
   "execution_count": 35,
   "metadata": {
    "colab": {
     "base_uri": "https://localhost:8080/",
     "height": 34
    },
    "colab_type": "code",
    "id": "VoYH4yv0MkLE",
    "outputId": "0430afe3-523c-4f74-e4f6-ccb5f7b6c640"
   },
   "outputs": [
    {
     "data": {
      "text/plain": [
       "5"
      ]
     },
     "execution_count": 35,
     "metadata": {},
     "output_type": "execute_result"
    }
   ],
   "source": [
    "s1= 'ADFHRT'\n",
    "s2= 'BCDRTG'\n",
    "\n",
    "levenshtein(s1,s2)\n",
    "\n"
   ]
  },
  {
   "cell_type": "markdown",
   "metadata": {
    "colab_type": "text",
    "id": "LyXoK8JiM4aq"
   },
   "source": [
    "Il faut donc faire 5 opérations pour transformer s1 en s2."
   ]
  },
  {
   "cell_type": "markdown",
   "metadata": {
    "colab_type": "text",
    "id": "bx8LVGgUADMZ"
   },
   "source": [
    "### Levenstein appliqué à un jeu de donnée: \n",
    "\n",
    "On génére un jeu de donnée artificiel, et on classe les similarités avec une trajectoire primaire. "
   ]
  },
  {
   "cell_type": "code",
   "execution_count": 37,
   "metadata": {
    "colab": {
     "base_uri": "https://localhost:8080/",
     "height": 473
    },
    "colab_type": "code",
    "id": "wMHFDOSIZcya",
    "outputId": "7a515072-82b3-47dc-f156-2edf4c766b2d"
   },
   "outputs": [
    {
     "name": "stdout",
     "output_type": "stream",
     "text": [
      "(array([ 0.59092245,  3.13353975,  3.98186797,  9.91217411, 10.33672149,\n",
      "       12.03086235]), array([ 7.5284148 ,  3.71674185,  2.02259675,  4.14115794, 11.76493158,\n",
      "       16.        ]))\n"
     ]
    },
    {
     "name": "stderr",
     "output_type": "stream",
     "text": [
      "C:\\Users\\Admin\\Anaconda3\\lib\\site-packages\\matplotlib\\cbook\\deprecation.py:107: MatplotlibDeprecationWarning: Adding an axes using the same arguments as a previous axes currently reuses the earlier instance.  In a future version, a new instance will always be created and returned.  Meanwhile, this warning can be suppressed, and the future behavior ensured, by passing a unique label to each axes instance.\n",
      "  warnings.warn(message, mplDeprecation, stacklevel=1)\n"
     ]
    },
    {
     "data": {
      "image/png": "[encoded data removed]",
      "text/plain": [
       "<Figure size 432x288 with 1 Axes>"
      ]
     },
     "metadata": {
      "needs_background": "light"
     },
     "output_type": "display_data"
    }
   ],
   "source": [
    "traj_A = np.array([[1.39534, 17.77678],[7.3992 , 8.77631],[9.40235, 4.77594],[23.40553, 9.77848],\n",
    "                   [24.40801, 27.78043],[28.40837, 37.78066]])\n",
    "\n",
    "traj_B = np.array([[1.39534, 1.77678],[7.3992 , 3.77631],[9.40235, 15.77594],[23.40553, 9.77848],\n",
    "                   [24.40801, 4.78043],[28.40837, 13.78066]])\n",
    "\n",
    "traj_C = np.array([[1.39534, 5.77678],[6.3992 , 15.77631],[8.40235, 15.77594],[16.40553, 8.77848],\n",
    "                   [16.40801, 12.78043],[18.40837, 9.78066]])\n",
    "\n",
    "traj_list = [traj_A, traj_B, traj_C]\n",
    "\n",
    "LA1=np.array([traj_A[i][0] for i in range(len(traj_A))])\n",
    "LA2=np.array([traj_A[i][1] for i in range(len(traj_A))])\n",
    "\n",
    "LB1=np.array([traj_B[i][0] for i in range(len(traj_B))])\n",
    "LB2=np.array([traj_B[i][1] for i in range(len(traj_B))])\n",
    "\n",
    "LC1=np.array([traj_C[i][0] for i in range(len(traj_C))])\n",
    "LC2=np.array([traj_C[i][1] for i in range(len(traj_C))])\n",
    "\n",
    "plt.xlim([0, 16])\n",
    "plt.ylim([0, 16])\n",
    "ax=plt.axes()\n",
    "\n",
    "resadjust(ax,1,1)\n",
    "plt.grid(True)\n",
    "\n",
    "print(transform(LA1,LA2))\n",
    "plt.plot(transform(LA1,LA2)[0],transform(LA1,LA2)[1])\n",
    "plt.show()\n",
    "#Traj_A\n"
   ]
  },
  {
   "cell_type": "code",
   "execution_count": 38,
   "metadata": {
    "colab": {
     "base_uri": "https://localhost:8080/",
     "height": 456
    },
    "colab_type": "code",
    "id": "ywcBzMZNcEsW",
    "outputId": "cf08f5d4-d05d-448b-b380-b6188fa442e5"
   },
   "outputs": [
    {
     "name": "stdout",
     "output_type": "stream",
     "text": [
      "(array([ 0.78587543,  4.16733519,  5.2955379 , 13.18232901, 13.74694007,\n",
      "       16.        ]), array([ 1.77678,  3.77631, 15.77594,  9.77848,  4.78043, 13.78066]))\n"
     ]
    },
    {
     "name": "stderr",
     "output_type": "stream",
     "text": [
      "C:\\Users\\Admin\\Anaconda3\\lib\\site-packages\\matplotlib\\cbook\\deprecation.py:107: MatplotlibDeprecationWarning: Adding an axes using the same arguments as a previous axes currently reuses the earlier instance.  In a future version, a new instance will always be created and returned.  Meanwhile, this warning can be suppressed, and the future behavior ensured, by passing a unique label to each axes instance.\n",
      "  warnings.warn(message, mplDeprecation, stacklevel=1)\n"
     ]
    },
    {
     "data": {
      "image/png": "[encoded data removed]",
      "text/plain": [
       "<Figure size 432x288 with 1 Axes>"
      ]
     },
     "metadata": {
      "needs_background": "light"
     },
     "output_type": "display_data"
    }
   ],
   "source": [
    "plt.xlim([0, 16])\n",
    "plt.ylim([0, 16])\n",
    "ax=plt.axes()\n",
    "\n",
    "resadjust(ax,1,1)\n",
    "plt.grid(True)\n",
    "\n",
    "print(transform(LB1,LB2))\n",
    "plt.plot(transform(LB1,LB2)[0],transform(LB1,LB2)[1])\n",
    "plt.show()\n",
    "\n",
    " #Traj_B"
   ]
  },
  {
   "cell_type": "code",
   "execution_count": 39,
   "metadata": {
    "colab": {
     "base_uri": "https://localhost:8080/",
     "height": 456
    },
    "colab_type": "code",
    "id": "EN-52ppPhw72",
    "outputId": "ee5385c2-83fd-4e36-fbe3-b7e68f9d07e8"
   },
   "outputs": [
    {
     "name": "stdout",
     "output_type": "stream",
     "text": [
      "(array([ 1.21278744,  5.56199164,  7.3030692 , 14.25919188, 14.26134742,\n",
      "       16.        ]), array([ 5.77678, 15.77631, 15.77594,  8.77848, 12.78043,  9.78066]))\n"
     ]
    },
    {
     "name": "stderr",
     "output_type": "stream",
     "text": [
      "C:\\Users\\Admin\\Anaconda3\\lib\\site-packages\\matplotlib\\cbook\\deprecation.py:107: MatplotlibDeprecationWarning: Adding an axes using the same arguments as a previous axes currently reuses the earlier instance.  In a future version, a new instance will always be created and returned.  Meanwhile, this warning can be suppressed, and the future behavior ensured, by passing a unique label to each axes instance.\n",
      "  warnings.warn(message, mplDeprecation, stacklevel=1)\n"
     ]
    },
    {
     "data": {
      "image/png": "[encoded data removed]",
      "text/plain": [
       "<Figure size 432x288 with 1 Axes>"
      ]
     },
     "metadata": {
      "needs_background": "light"
     },
     "output_type": "display_data"
    }
   ],
   "source": [
    "plt.xlim([0, 16])\n",
    "plt.ylim([0, 16])\n",
    "ax=plt.axes()\n",
    "\n",
    "resadjust(ax,1,1)\n",
    "plt.grid(True)\n",
    "\n",
    "print(transform(LC1,LC2))\n",
    "plt.plot(transform(LC1,LC2)[0],transform(LC1,LC2)[1])\n",
    "plt.show()\n",
    "\n",
    "#Traj_C"
   ]
  },
  {
   "cell_type": "code",
   "execution_count": 61,
   "metadata": {
    "colab": {
     "base_uri": "https://localhost:8080/",
     "height": 34
    },
    "colab_type": "code",
    "id": "cQx5C1p4jiOh",
    "outputId": "97264d4a-87f3-427b-99f4-538998f0b9df"
   },
   "outputs": [
    {
     "name": "stdout",
     "output_type": "stream",
     "text": [
      "Distance entre A et C: 4\n",
      "Distance entre B et C: 3\n"
     ]
    }
   ],
   "source": [
    "#levenshtein(conversionStr(LA1,LA2), conversionStr(LC1,LC2))\n",
    "print('Distance entre A et C:',levenshtein('DBAB','BCDAD'))\n",
    "\n",
    "#levenshtein(conversionStr(LB1,LB2), conversionStr(LC1,LC2))\n",
    "print('Distance entre B et C:',levenshtein('BADEB','BCDAD'))\n"
   ]
  },
  {
   "cell_type": "markdown",
   "metadata": {},
   "source": [
    "Et du coup comme on peut le constater visuellement, B est plus similaire à C que A. Ce qui est confirmé par notre mesure de similarité (inversement proportionnelle à la distance) "
   ]
  }
 ],
 "metadata": {
  "colab": {
   "collapsed_sections": [],
   "name": "Livrables",
   "provenance": [],
   "version": "0.3.2"
  },
  "kernelspec": {
   "display_name": "Python 3",
   "language": "python",
   "name": "python3"
  },
  "language_info": {
   "codemirror_mode": {
    "name": "ipython",
    "version": 3
   },
   "file_extension": ".py",
   "mimetype": "text/x-python",
   "name": "python",
   "nbconvert_exporter": "python",
   "pygments_lexer": "ipython3",
   "version": "3.7.0"
  }
 },
 "nbformat": 4,
 "nbformat_minor": 1
}
